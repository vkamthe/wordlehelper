{
 "cells": [
  {
   "cell_type": "code",
   "execution_count": 1,
   "id": "f0fcbbe4-c4c8-455f-9996-3cd8c1079d6e",
   "metadata": {},
   "outputs": [],
   "source": [
    "# Standard imports\n",
    "import urllib\n",
    "import string\n",
    "import re"
   ]
  },
  {
   "cell_type": "code",
   "execution_count": 2,
   "id": "0a754863-b474-4e61-99c7-7e82595801ff",
   "metadata": {},
   "outputs": [],
   "source": [
    "# File with all 5 letter words in english has been downloaded to same folder.\n",
    "#url = \"https://www-cs-faculty.stanford.edu/~knuth/sgb-words.txt\""
   ]
  },
  {
   "cell_type": "code",
   "execution_count": 3,
   "id": "224d65a2-1a1b-4bd7-b195-8d6944a6ea48",
   "metadata": {},
   "outputs": [],
   "source": [
    "#File words_alpha is downloaded to same folder.\n",
    "#import urllib.request\n",
    "#urllib.request.urlretrieve('https://raw.githubusercontent.com/dwyl/english-words/master/words_alpha.txt', 'words_alpha.txt')"
   ]
  },
  {
   "cell_type": "code",
   "execution_count": 4,
   "id": "f3757b38-12de-4450-8b49-1b0b5083b740",
   "metadata": {},
   "outputs": [],
   "source": [
    "# Build up a list of the words (remove new line character) from first file - \n",
    "file1 = open('sgb-words.txt')\n",
    "word_set = []\n",
    "for line in file1:\n",
    "    word_set.append(line.replace('\\n',''))"
   ]
  },
  {
   "cell_type": "code",
   "execution_count": 5,
   "id": "0d84d89b-83a8-4245-b35a-fabe5ff23b4c",
   "metadata": {},
   "outputs": [
    {
     "data": {
      "text/plain": [
       "5757"
      ]
     },
     "execution_count": 5,
     "metadata": {},
     "output_type": "execute_result"
    }
   ],
   "source": [
    "len(word_set)"
   ]
  },
  {
   "cell_type": "code",
   "execution_count": 6,
   "id": "a8802be3-020d-4fcd-aed9-4cee6e8c1162",
   "metadata": {},
   "outputs": [],
   "source": [
    "# Append list of the words (remove new line character) from second file - \n",
    "#file2 = open('words_alpha.txt')\n",
    "#for line in file2:\n",
    "#    if len(line.replace('\\n','')) == 5:\n",
    "#        word_set.append(line.replace('\\n',''))"
   ]
  },
  {
   "cell_type": "code",
   "execution_count": 7,
   "id": "04c63ca1-4c8b-41e2-8c32-8bc58fee9eb9",
   "metadata": {},
   "outputs": [
    {
     "data": {
      "text/plain": [
       "5757"
      ]
     },
     "execution_count": 7,
     "metadata": {},
     "output_type": "execute_result"
    }
   ],
   "source": [
    "len(word_set)"
   ]
  },
  {
   "cell_type": "code",
   "execution_count": 8,
   "id": "0627ae36-7551-4943-bcef-f7dc6036b894",
   "metadata": {},
   "outputs": [],
   "source": [
    "# Converting to set will remove all duplicate words in this list\n",
    "word_set = list(set(word_set))"
   ]
  },
  {
   "cell_type": "code",
   "execution_count": 9,
   "id": "2bcaecec-8a51-443c-ab30-03b22fb88e0c",
   "metadata": {},
   "outputs": [
    {
     "data": {
      "text/plain": [
       "5757"
      ]
     },
     "execution_count": 9,
     "metadata": {},
     "output_type": "execute_result"
    }
   ],
   "source": [
    "len(word_set)"
   ]
  },
  {
   "cell_type": "code",
   "execution_count": 10,
   "id": "eb2ab781-e6a7-411a-a58f-1ce10b2183b0",
   "metadata": {},
   "outputs": [
    {
     "data": {
      "text/plain": [
       "'abcdefghijklmnopqrstuvwxyz'"
      ]
     },
     "execution_count": 10,
     "metadata": {},
     "output_type": "execute_result"
    }
   ],
   "source": [
    "# Generate a string of all letters\n",
    "all_letters = string.ascii_lowercase[:]\n",
    "all_letters"
   ]
  },
  {
   "cell_type": "code",
   "execution_count": 11,
   "id": "3f1ae3ef-d7f7-45cb-ac22-c806ef2a8389",
   "metadata": {},
   "outputs": [
    {
     "data": {
      "text/plain": [
       "{'a': 0,\n",
       " 'b': 0,\n",
       " 'c': 0,\n",
       " 'd': 0,\n",
       " 'e': 0,\n",
       " 'f': 0,\n",
       " 'g': 0,\n",
       " 'h': 0,\n",
       " 'i': 0,\n",
       " 'j': 0,\n",
       " 'k': 0,\n",
       " 'l': 0,\n",
       " 'm': 0,\n",
       " 'n': 0,\n",
       " 'o': 0,\n",
       " 'p': 0,\n",
       " 'q': 0,\n",
       " 'r': 0,\n",
       " 's': 0,\n",
       " 't': 0,\n",
       " 'u': 0,\n",
       " 'v': 0,\n",
       " 'w': 0,\n",
       " 'x': 0,\n",
       " 'y': 0,\n",
       " 'z': 0}"
      ]
     },
     "execution_count": 11,
     "metadata": {},
     "output_type": "execute_result"
    }
   ],
   "source": [
    "# Initialize a dictionary for the letter count and set to 0\n",
    "letter_stats_dict = {}\n",
    "for letter in all_letters:\n",
    "    letter_stats_dict[letter]=0\n",
    "letter_stats_dict"
   ]
  },
  {
   "cell_type": "code",
   "execution_count": 12,
   "id": "ca955152-08f2-483d-97d2-6f746e82f52d",
   "metadata": {},
   "outputs": [
    {
     "data": {
      "text/plain": [
       "28785.0"
      ]
     },
     "execution_count": 12,
     "metadata": {},
     "output_type": "execute_result"
    }
   ],
   "source": [
    "# We know the total number of letters...\n",
    "total_letters = len(word_set)*5.0\n",
    "total_letters"
   ]
  },
  {
   "cell_type": "code",
   "execution_count": 13,
   "id": "523e55db-c773-4f8f-abea-7f22560a9c63",
   "metadata": {},
   "outputs": [],
   "source": [
    "# Now for each letter we look in each word and add the count of that letter in the given word\n",
    "for letter in all_letters:\n",
    "    for word in word_set:\n",
    "        letter_stats_dict[letter]+=word.count(letter)"
   ]
  },
  {
   "cell_type": "code",
   "execution_count": 14,
   "id": "44d681b4-e639-4581-b622-63a1ca5314ab",
   "metadata": {},
   "outputs": [
    {
     "data": {
      "text/plain": [
       "{'a': 2348,\n",
       " 'b': 715,\n",
       " 'c': 964,\n",
       " 'd': 1181,\n",
       " 'e': 3009,\n",
       " 'f': 561,\n",
       " 'g': 679,\n",
       " 'h': 814,\n",
       " 'i': 1592,\n",
       " 'j': 89,\n",
       " 'k': 596,\n",
       " 'l': 1586,\n",
       " 'm': 843,\n",
       " 'n': 1285,\n",
       " 'o': 1915,\n",
       " 'p': 955,\n",
       " 'q': 53,\n",
       " 'r': 1910,\n",
       " 's': 3033,\n",
       " 't': 1585,\n",
       " 'u': 1089,\n",
       " 'v': 318,\n",
       " 'w': 505,\n",
       " 'x': 139,\n",
       " 'y': 886,\n",
       " 'z': 135}"
      ]
     },
     "execution_count": 14,
     "metadata": {},
     "output_type": "execute_result"
    }
   ],
   "source": [
    "letter_stats_dict"
   ]
  },
  {
   "cell_type": "code",
   "execution_count": 15,
   "id": "0f1e1334-c8f4-4299-9e46-209cd9c28c0a",
   "metadata": {},
   "outputs": [],
   "source": [
    "# Finally we divide by the total number of letters to get a percent chance\n",
    "for letter in all_letters:\n",
    "    letter_stats_dict[letter]=(letter_stats_dict[letter]/total_letters)*100\n",
    "    #total = total + letter_stats_dict[letter]"
   ]
  },
  {
   "cell_type": "code",
   "execution_count": 16,
   "id": "bad023ad-2659-4d61-8447-b4cd8142bfcf",
   "metadata": {},
   "outputs": [
    {
     "data": {
      "text/plain": [
       "{'a': 8.157026228938683,\n",
       " 'b': 2.4839326037866942,\n",
       " 'c': 3.3489664755949278,\n",
       " 'd': 4.102831335765156,\n",
       " 'e': 10.453361125586243,\n",
       " 'f': 1.948931735278791,\n",
       " 'g': 2.3588674656939377,\n",
       " 'h': 2.8278617335417753,\n",
       " 'i': 5.530658328990794,\n",
       " 'j': 0.30918881361820394,\n",
       " 'k': 2.07052284175786,\n",
       " 'l': 5.509814139308668,\n",
       " 'm': 2.928608650338718,\n",
       " 'n': 4.464130623588675,\n",
       " 'o': 6.652770540211916,\n",
       " 'p': 3.3177001910717387,\n",
       " 'q': 0.18412367552544728,\n",
       " 'r': 6.6354003821434775,\n",
       " 's': 10.536737884314746,\n",
       " 't': 5.50634010769498,\n",
       " 'u': 3.783220427305888,\n",
       " 'v': 1.1047420531526837,\n",
       " 'w': 1.7543859649122806,\n",
       " 'x': 0.4828903943025881,\n",
       " 'y': 3.077992009727289,\n",
       " 'z': 0.46899426784783743}"
      ]
     },
     "execution_count": 16,
     "metadata": {},
     "output_type": "execute_result"
    }
   ],
   "source": [
    "letter_stats_dict"
   ]
  },
  {
   "cell_type": "code",
   "execution_count": 17,
   "id": "fa39d983-1572-4cff-8a54-f5495f6f0f14",
   "metadata": {},
   "outputs": [],
   "source": [
    "# Set up a word dictionary and initialize\n",
    "word_stat_dict = {}\n",
    "for word in word_set:\n",
    "    word_stat_dict[word] = 0"
   ]
  },
  {
   "cell_type": "code",
   "execution_count": 18,
   "id": "911b5468-4b32-4345-b8f4-377a3d669f6a",
   "metadata": {},
   "outputs": [],
   "source": [
    "# For each word find the unique set of characters and calculate the information score\n",
    "for word in word_set:\n",
    "    unq_char_word = \"\".join(set(word))\n",
    "    for letter in unq_char_word:\n",
    "        word_stat_dict[word]+=letter_stats_dict[letter]"
   ]
  },
  {
   "cell_type": "code",
   "execution_count": 19,
   "id": "5a21561c-2891-4b75-bf29-83c0000fac0b",
   "metadata": {},
   "outputs": [],
   "source": [
    "# Sort the list from best to worst score\n",
    "word_stat_dict = sorted(word_stat_dict.items(), key=lambda x:x[1],reverse=True)\n",
    "word_stat_dict = dict(word_stat_dict)"
   ]
  },
  {
   "cell_type": "code",
   "execution_count": 20,
   "id": "a5b6b7f4-bb07-41b4-a270-83bb2d632ae2",
   "metadata": {},
   "outputs": [
    {
     "data": {
      "text/plain": [
       "[('arose', 42.43529616119507),\n",
       " ('arise', 41.31318394997395),\n",
       " ('raise', 41.31318394997395),\n",
       " ('aloes', 41.309709918360255),\n",
       " ('stoae', 41.30623588674657),\n",
       " ('reals', 41.29233976029182),\n",
       " ('earls', 41.29233976029182),\n",
       " ('laser', 41.29233976029182),\n",
       " ('rates', 41.28886572867813),\n",
       " ('tears', 41.28886572867813)]"
      ]
     },
     "execution_count": 20,
     "metadata": {},
     "output_type": "execute_result"
    }
   ],
   "source": [
    "# Print to find the first few entries in dictionary!\n",
    "list(word_stat_dict.items())[:10]"
   ]
  },
  {
   "cell_type": "code",
   "execution_count": 21,
   "id": "f4c8766c-2d02-40d2-9e6e-6dee91cfed5e",
   "metadata": {},
   "outputs": [],
   "source": [
    "import csv\n",
    "with open('dict.csv', 'w') as csv_file:  \n",
    "    writer = csv.writer(csv_file)\n",
    "    for key, value in word_stat_dict.items():\n",
    "       writer.writerow([key, value])"
   ]
  },
  {
   "cell_type": "code",
   "execution_count": null,
   "id": "f6d652ae-918e-4817-91f4-706e3a0ace96",
   "metadata": {},
   "outputs": [],
   "source": []
  }
 ],
 "metadata": {
  "kernelspec": {
   "display_name": "Python 3 (ipykernel)",
   "language": "python",
   "name": "python3"
  },
  "language_info": {
   "codemirror_mode": {
    "name": "ipython",
    "version": 3
   },
   "file_extension": ".py",
   "mimetype": "text/x-python",
   "name": "python",
   "nbconvert_exporter": "python",
   "pygments_lexer": "ipython3",
   "version": "3.9.7"
  }
 },
 "nbformat": 4,
 "nbformat_minor": 5
}
