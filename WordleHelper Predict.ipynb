{
 "cells": [
  {
   "cell_type": "code",
   "execution_count": 1,
   "id": "19f65f33-c953-4fa9-a8b2-ed8e8614f9ef",
   "metadata": {},
   "outputs": [],
   "source": [
    "import csv\n",
    "with open('dict.csv') as csv_file:\n",
    "    reader = csv.reader(csv_file)\n",
    "    word_stat_dict = dict(reader)"
   ]
  },
  {
   "cell_type": "code",
   "execution_count": 2,
   "id": "dadf4ca6-23cb-41b8-8cf0-fb356ec2454f",
   "metadata": {},
   "outputs": [],
   "source": [
    "# Print to find the first few entries in dictionary!\n",
    "#list(word_stat_dict.items())[:10]"
   ]
  },
  {
   "cell_type": "code",
   "execution_count": 3,
   "id": "d23c370a-dc1b-4834-9427-3c0a7017f66d",
   "metadata": {},
   "outputs": [],
   "source": [
    "WORD_LENGTH = 5\n",
    "ALLOWED_ATTEMPTS = 6"
   ]
  },
  {
   "cell_type": "code",
   "execution_count": 4,
   "id": "25b0507a-b1bb-41bd-8fb0-701a6862f840",
   "metadata": {},
   "outputs": [],
   "source": [
    "import streamlit as st\n",
    "import random"
   ]
  },
  {
   "cell_type": "code",
   "execution_count": 5,
   "id": "e5f8678e-e3a9-450e-9ab7-0e9c120f10b7",
   "metadata": {},
   "outputs": [],
   "source": [
    "def input_word(attempt):\n",
    "    while True:\n",
    "        key='word'+str(attempt)\n",
    "        word = st.text_input(\"Input the word you entered> \", key=key)\n",
    "        if len(word) == WORD_LENGTH and word.lower() in word_stat_dict:\n",
    "            break\n",
    "    return word.lower()"
   ]
  },
  {
   "cell_type": "code",
   "execution_count": 6,
   "id": "8877a429-74d9-4c99-ab66-fc72a85cb168",
   "metadata": {},
   "outputs": [],
   "source": [
    "def input_response(attempt):\n",
    "    st.write(\"Type the color-coded reply from Wordle:\")\n",
    "    st.write(\"  G for Green\")\n",
    "    st.write(\"  Y for Yellow\")\n",
    "    st.write(\"  ? for Gray\")\n",
    "    \n",
    "    key='response'+str(attempt)\n",
    "    while True:\n",
    "        response = st.text_input(\"Response from Wordle> \", key=key)\n",
    "        if len(response) == WORD_LENGTH and set(response) <= {\"G\", \"Y\", \"?\"}:\n",
    "            break\n",
    "        else:\n",
    "            st.write(\"Error - invalid answer\", response)\n",
    "    return response"
   ]
  },
  {
   "cell_type": "code",
   "execution_count": 7,
   "id": "ed160e5f-fa18-44f8-aa11-7ff1f83c4841",
   "metadata": {},
   "outputs": [
    {
     "data": {
      "text/plain": [
       "{'a',\n",
       " 'b',\n",
       " 'c',\n",
       " 'd',\n",
       " 'e',\n",
       " 'f',\n",
       " 'g',\n",
       " 'h',\n",
       " 'i',\n",
       " 'j',\n",
       " 'k',\n",
       " 'l',\n",
       " 'm',\n",
       " 'n',\n",
       " 'o',\n",
       " 'p',\n",
       " 'q',\n",
       " 'r',\n",
       " 's',\n",
       " 't',\n",
       " 'u',\n",
       " 'v',\n",
       " 'w',\n",
       " 'x',\n",
       " 'y',\n",
       " 'z'}"
      ]
     },
     "execution_count": 7,
     "metadata": {},
     "output_type": "execute_result"
    }
   ],
   "source": [
    "import string\n",
    "set(string.ascii_lowercase)"
   ]
  },
  {
   "cell_type": "code",
   "execution_count": 8,
   "id": "74337d01-0bc5-44e9-8e1f-ee95747678a4",
   "metadata": {},
   "outputs": [],
   "source": [
    "word_vector = [set(string.ascii_lowercase) for _ in range(WORD_LENGTH)]"
   ]
  },
  {
   "cell_type": "code",
   "execution_count": 9,
   "id": "0034dc3c-8b2f-449b-a774-414d28df2288",
   "metadata": {},
   "outputs": [],
   "source": [
    "#print(word_vector)"
   ]
  },
  {
   "cell_type": "code",
   "execution_count": 10,
   "id": "b4b41194-76bf-40ef-8e0d-42c3b0f09f14",
   "metadata": {},
   "outputs": [],
   "source": [
    "def match_word_vector(word, word_vector):\n",
    "    assert len(word) == len(word_vector)\n",
    "    for letter, v_letter in zip(word, word_vector):\n",
    "        if letter not in v_letter:\n",
    "            return False\n",
    "    return True"
   ]
  },
  {
   "cell_type": "code",
   "execution_count": 11,
   "id": "a2eca0fa-1558-45cc-b1d8-72dbdbb239a2",
   "metadata": {},
   "outputs": [],
   "source": [
    "#match_word_vector('99999',word_vector)"
   ]
  },
  {
   "cell_type": "code",
   "execution_count": 12,
   "id": "c5b67ea0-4d20-4f4f-a5c2-7563805584b7",
   "metadata": {},
   "outputs": [],
   "source": [
    "def match(word_vector, possible_words):\n",
    "    return [word for word in possible_words if match_word_vector(word, word_vector)]"
   ]
  },
  {
   "cell_type": "code",
   "execution_count": 13,
   "id": "8a92ac7b-2e6f-4ac4-96fc-a4287a7330b3",
   "metadata": {},
   "outputs": [],
   "source": [
    "def yellow_chars_match(possible_words, yellow_chars):\n",
    "    chars = set(yellow_chars)\n",
    "    return [word for word in possible_words if all((c in word) for c in chars)]"
   ]
  },
  {
   "cell_type": "code",
   "execution_count": 14,
   "id": "86ed52fa-1d6d-4fcb-a044-cd53402ff7cb",
   "metadata": {},
   "outputs": [],
   "source": [
    "def solve():\n",
    "    possible_words = word_stat_dict.copy()\n",
    "    word_vector = [set(string.ascii_lowercase) for _ in range(WORD_LENGTH)]\n",
    "    yellow_chars = ''\n",
    "    for attempt in range(1, ALLOWED_ATTEMPTS + 1):\n",
    "\n",
    "        st.write(\"Attempt\", attempt, \" with\", len(possible_words), \"possible words\")\n",
    "        #display_word_table(sort_by_word_commonality(possible_words)[:15])\n",
    "        \n",
    "        st.write(list(possible_words)[:10])\n",
    "        \n",
    "        word = input_word(attempt)\n",
    "        response = input_response(attempt)\n",
    "        \n",
    "        if response == 'GGGGG':\n",
    "            st.write(\"Completed Wordle in\", attempt , \"attempts\")\n",
    "            break\n",
    "\n",
    "        for idx, letter in enumerate(response):\n",
    "            if letter == \"G\":\n",
    "                word_vector[idx] = {word[idx]}\n",
    "            elif letter == \"Y\":\n",
    "                yellow_chars = yellow_chars + word[idx]\n",
    "                try:\n",
    "                    word_vector[idx].remove(word[idx])\n",
    "                except KeyError:\n",
    "                    pass\n",
    "            elif letter == \"?\":\n",
    "                for vector in word_vector:\n",
    "                    try:\n",
    "                        vector.remove(word[idx])\n",
    "                    except KeyError:\n",
    "                        pass\n",
    "        \n",
    "        possible_words = match(word_vector, possible_words)\n",
    "        st.write(\"possible words after word vector match \", len(possible_words))\n",
    "        \n",
    "        st.write(\"yellow characters\", yellow_chars)\n",
    "        possible_words = yellow_chars_match(possible_words, yellow_chars)\n",
    "        st.write(\"possible words after yellow chars match \", len(possible_words))\n",
    "                                            \n",
    "    if attempt == ALLOWED_ATTEMPTS:\n",
    "        st.write(\"Sorry.... I could not help in \", attempt , \"attempts\")\n"
   ]
  },
  {
   "cell_type": "code",
   "execution_count": null,
   "id": "59913fab-d2c5-4d2a-995e-e9290c58eede",
   "metadata": {},
   "outputs": [
    {
     "name": "stderr",
     "output_type": "stream",
     "text": [
      "2022-04-25 09:23:44.779 \n",
      "  \u001b[33m\u001b[1mWarning:\u001b[0m to view this Streamlit app on a browser, run it with the following\n",
      "  command:\n",
      "\n",
      "    streamlit run /opt/anaconda3/envs/WORDLE/lib/python3.9/site-packages/ipykernel_launcher.py [ARGUMENTS]\n"
     ]
    }
   ],
   "source": [
    "solve()"
   ]
  },
  {
   "cell_type": "code",
   "execution_count": null,
   "id": "fcad8e82-d7e7-4b19-88d2-132c6b737681",
   "metadata": {},
   "outputs": [],
   "source": []
  }
 ],
 "metadata": {
  "jupytext": {
   "formats": "ipynb,py"
  },
  "kernelspec": {
   "display_name": "Python 3 (ipykernel)",
   "language": "python",
   "name": "python3"
  },
  "language_info": {
   "codemirror_mode": {
    "name": "ipython",
    "version": 3
   },
   "file_extension": ".py",
   "mimetype": "text/x-python",
   "name": "python",
   "nbconvert_exporter": "python",
   "pygments_lexer": "ipython3",
   "version": "3.9.12"
  }
 },
 "nbformat": 4,
 "nbformat_minor": 5
}
