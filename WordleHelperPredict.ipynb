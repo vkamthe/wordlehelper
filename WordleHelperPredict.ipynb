{
 "cells": [
  {
   "cell_type": "code",
   "execution_count": 3,
   "id": "19f65f33-c953-4fa9-a8b2-ed8e8614f9ef",
   "metadata": {},
   "outputs": [],
   "source": [
    "import csv\n",
    "import pandas as pd\n",
    "word_stat_dict = pd.read_csv('dict_new.csv')"
   ]
  },
  {
   "cell_type": "code",
   "execution_count": 22,
   "id": "7d71e9ad-d980-4590-8688-acefb34abc9a",
   "metadata": {},
   "outputs": [],
   "source": [
    "#word_stat_dict"
   ]
  },
  {
   "cell_type": "code",
   "execution_count": 5,
   "id": "dadf4ca6-23cb-41b8-8cf0-fb356ec2454f",
   "metadata": {},
   "outputs": [],
   "source": [
    "# Print to find the first few entries in dictionary!\n",
    "#list(word_stat_dict.items())[:10]"
   ]
  },
  {
   "cell_type": "code",
   "execution_count": 6,
   "id": "d23c370a-dc1b-4834-9427-3c0a7017f66d",
   "metadata": {},
   "outputs": [],
   "source": [
    "WORD_LENGTH = 5\n",
    "ALLOWED_ATTEMPTS = 6"
   ]
  },
  {
   "cell_type": "code",
   "execution_count": 7,
   "id": "25b0507a-b1bb-41bd-8fb0-701a6862f840",
   "metadata": {},
   "outputs": [],
   "source": [
    "import streamlit as st\n",
    "import random"
   ]
  },
  {
   "cell_type": "code",
   "execution_count": 8,
   "id": "e5f8678e-e3a9-450e-9ab7-0e9c120f10b7",
   "metadata": {},
   "outputs": [],
   "source": [
    "def input_word(attempt):\n",
    "    key1='word'+str(attempt)\n",
    "    while True:\n",
    "        word = st.text_input(\"Input the word you entered> \", key=key1)\n",
    "        if len(word) == WORD_LENGTH and word.lower() in list(word_stat_dict.word):\n",
    "            break\n",
    "    return word.lower()"
   ]
  },
  {
   "cell_type": "code",
   "execution_count": 9,
   "id": "8877a429-74d9-4c99-ab66-fc72a85cb168",
   "metadata": {},
   "outputs": [],
   "source": [
    "def input_response(attempt):\n",
    "    st.write(\"Type the color-coded reply from Wordle:\")\n",
    "    st.write(\"  G for Green\")\n",
    "    st.write(\"  Y for Yellow\")\n",
    "    st.write(\"  B for Gray\")\n",
    "    \n",
    "    key2='response'+str(attempt)\n",
    "    while True:\n",
    "        response = st.text_input(\"Response from Wordle> \", key=key2)\n",
    "        if len(response) == WORD_LENGTH and set(response) <= {\"G\", \"Y\", \"B\"}:\n",
    "            break\n",
    "        else:\n",
    "            st.write(\"Error - invalid answer\", response)\n",
    "    return response"
   ]
  },
  {
   "cell_type": "code",
   "execution_count": 10,
   "id": "ed160e5f-fa18-44f8-aa11-7ff1f83c4841",
   "metadata": {},
   "outputs": [
    {
     "data": {
      "text/plain": [
       "{'a',\n",
       " 'b',\n",
       " 'c',\n",
       " 'd',\n",
       " 'e',\n",
       " 'f',\n",
       " 'g',\n",
       " 'h',\n",
       " 'i',\n",
       " 'j',\n",
       " 'k',\n",
       " 'l',\n",
       " 'm',\n",
       " 'n',\n",
       " 'o',\n",
       " 'p',\n",
       " 'q',\n",
       " 'r',\n",
       " 's',\n",
       " 't',\n",
       " 'u',\n",
       " 'v',\n",
       " 'w',\n",
       " 'x',\n",
       " 'y',\n",
       " 'z'}"
      ]
     },
     "execution_count": 10,
     "metadata": {},
     "output_type": "execute_result"
    }
   ],
   "source": [
    "import string\n",
    "set(string.ascii_lowercase)"
   ]
  },
  {
   "cell_type": "code",
   "execution_count": 11,
   "id": "74337d01-0bc5-44e9-8e1f-ee95747678a4",
   "metadata": {},
   "outputs": [],
   "source": [
    "word_vector = [set(string.ascii_lowercase) for _ in range(WORD_LENGTH)]"
   ]
  },
  {
   "cell_type": "code",
   "execution_count": 12,
   "id": "0034dc3c-8b2f-449b-a774-414d28df2288",
   "metadata": {},
   "outputs": [],
   "source": [
    "#print(word_vector)"
   ]
  },
  {
   "cell_type": "code",
   "execution_count": 13,
   "id": "b4b41194-76bf-40ef-8e0d-42c3b0f09f14",
   "metadata": {},
   "outputs": [],
   "source": [
    "def match_word_vector(word, word_vector):\n",
    "    assert len(word) == len(word_vector)\n",
    "    for letter, v_letter in zip(word, word_vector):\n",
    "        if letter not in v_letter:\n",
    "            return False\n",
    "    return True"
   ]
  },
  {
   "cell_type": "code",
   "execution_count": 15,
   "id": "c5b67ea0-4d20-4f4f-a5c2-7563805584b7",
   "metadata": {},
   "outputs": [],
   "source": [
    "def match(word_vector, possible_words):\n",
    "    return possible_words.loc[possible_words.apply(lambda row: match_word_vector(row['word'],word_vector),axis=1)]"
   ]
  },
  {
   "cell_type": "code",
   "execution_count": 60,
   "id": "8a92ac7b-2e6f-4ac4-96fc-a4287a7330b3",
   "metadata": {},
   "outputs": [],
   "source": [
    "def yellow_chars_match(possible_words, yellow_chars):\n",
    "    chars = set(yellow_chars)\n",
    "    #return [row for row in possible_words if all((c in row.word) for c in chars)]\n",
    "    return possible_words.loc[possible_words.apply(lambda row: all((c in row['word']) for c in chars),axis=1)]"
   ]
  },
  {
   "cell_type": "code",
   "execution_count": 14,
   "id": "86ed52fa-1d6d-4fcb-a044-cd53402ff7cb",
   "metadata": {},
   "outputs": [],
   "source": [
    "def solve():\n",
    "    st.write(\"This program will help you find the next best word to enter in Wordle\")\n",
    "    st.write(\"You will get list of words, sorted with probability, to enter, maximum benefit arising from word on top\")\n",
    "    st.write(\"Along with words, you will also see if word is very frequent in english language, more frequent the word, better the chances\")\n",
    "    st.write(\"You will also see if word is Plural. Plural words will have less chances\")    \n",
    "\n",
    "    possible_words = word_stat_dict.copy()\n",
    "    word_vector = [set(string.ascii_lowercase) for _ in range(WORD_LENGTH)]\n",
    "    yellow_chars = ''\n",
    "    for attempt in range(1, ALLOWED_ATTEMPTS + 1):\n",
    "\n",
    "        st.write(\"Attempt\", attempt, \" with\", len(possible_words), \"possible words\")\n",
    "        #display_word_table(sort_by_word_commonality(possible_words)[:15])\n",
    "        \n",
    "        st.write(possible_words[:10])\n",
    "        \n",
    "        word = input_word(attempt)\n",
    "        response = input_response(attempt)\n",
    "        \n",
    "        if response == 'GGGGG':\n",
    "            st.write(\"Completed Wordle in\", attempt , \"attempts\")\n",
    "            break\n",
    "\n",
    "        for idx, letter in enumerate(response):\n",
    "            if letter == \"G\":\n",
    "                word_vector[idx] = {word[idx]}\n",
    "            elif letter == \"Y\":\n",
    "                yellow_chars = yellow_chars + word[idx]\n",
    "                try:\n",
    "                    word_vector[idx].remove(word[idx])\n",
    "                except KeyError:\n",
    "                    pass\n",
    "            elif letter == \"B\":\n",
    "                for vector in word_vector:\n",
    "                    try:\n",
    "                        vector.remove(word[idx])\n",
    "                    except KeyError:\n",
    "                        pass\n",
    "        \n",
    "        #st.write(\"word_verctor\", word_vector)\n",
    "        \n",
    "        possible_words = match(word_vector, possible_words)\n",
    "        st.write(\"possible words after word vector match \", len(possible_words))\n",
    "        #st.write(\"possible words \", possible_words[0:10])\n",
    "        \n",
    "        st.write(\"yellow characters\", yellow_chars)\n",
    "        possible_words = yellow_chars_match(possible_words, yellow_chars)\n",
    "        st.write(\"possible words after yellow chars match \", len(possible_words))\n",
    "        #st.write(\"possible words \", possible_words[0:10])\n",
    "                                          \n",
    "    if attempt == ALLOWED_ATTEMPTS:\n",
    "        st.write(\"Sorry.... I could not help in \", attempt , \"attempts\")"
   ]
  },
  {
   "cell_type": "code",
   "execution_count": 15,
   "id": "59913fab-d2c5-4d2a-995e-e9290c58eede",
   "metadata": {},
   "outputs": [
    {
     "name": "stderr",
     "output_type": "stream",
     "text": [
      "2022-04-26 09:14:38.058 \n",
      "  \u001b[33m\u001b[1mWarning:\u001b[0m to view this Streamlit app on a browser, run it with the following\n",
      "  command:\n",
      "\n",
      "    streamlit run /opt/anaconda3/envs/WORDLE/lib/python3.9/site-packages/ipykernel_launcher.py [ARGUMENTS]\n"
     ]
    },
    {
     "ename": "KeyboardInterrupt",
     "evalue": "",
     "output_type": "error",
     "traceback": [
      "\u001b[0;31m---------------------------------------------------------------------------\u001b[0m",
      "\u001b[0;31mKeyboardInterrupt\u001b[0m                         Traceback (most recent call last)",
      "Input \u001b[0;32mIn [15]\u001b[0m, in \u001b[0;36m<cell line: 1>\u001b[0;34m()\u001b[0m\n\u001b[0;32m----> 1\u001b[0m \u001b[43msolve\u001b[49m\u001b[43m(\u001b[49m\u001b[43m)\u001b[49m\n",
      "Input \u001b[0;32mIn [14]\u001b[0m, in \u001b[0;36msolve\u001b[0;34m()\u001b[0m\n\u001b[1;32m      8\u001b[0m \u001b[38;5;66;03m#display_word_table(sort_by_word_commonality(possible_words)[:15])\u001b[39;00m\n\u001b[1;32m     10\u001b[0m st\u001b[38;5;241m.\u001b[39mwrite(\u001b[38;5;28mlist\u001b[39m(possible_words)[:\u001b[38;5;241m10\u001b[39m])\n\u001b[0;32m---> 12\u001b[0m word \u001b[38;5;241m=\u001b[39m \u001b[43minput_word\u001b[49m\u001b[43m(\u001b[49m\u001b[43mattempt\u001b[49m\u001b[43m)\u001b[49m\n\u001b[1;32m     13\u001b[0m response \u001b[38;5;241m=\u001b[39m input_response(attempt)\n\u001b[1;32m     15\u001b[0m \u001b[38;5;28;01mif\u001b[39;00m response \u001b[38;5;241m==\u001b[39m \u001b[38;5;124m'\u001b[39m\u001b[38;5;124mGGGGG\u001b[39m\u001b[38;5;124m'\u001b[39m:\n",
      "Input \u001b[0;32mIn [5]\u001b[0m, in \u001b[0;36minput_word\u001b[0;34m(attempt)\u001b[0m\n\u001b[1;32m      2\u001b[0m key1\u001b[38;5;241m=\u001b[39m\u001b[38;5;124m'\u001b[39m\u001b[38;5;124mword\u001b[39m\u001b[38;5;124m'\u001b[39m\u001b[38;5;241m+\u001b[39m\u001b[38;5;28mstr\u001b[39m(attempt)\u001b[38;5;241m+\u001b[39m\u001b[38;5;28mstr\u001b[39m(random\u001b[38;5;241m.\u001b[39mrandom()\u001b[38;5;241m*\u001b[39m\u001b[38;5;241m10000\u001b[39m)\n\u001b[1;32m      3\u001b[0m \u001b[38;5;28;01mwhile\u001b[39;00m \u001b[38;5;28;01mTrue\u001b[39;00m:\n\u001b[0;32m----> 4\u001b[0m     word \u001b[38;5;241m=\u001b[39m \u001b[43mst\u001b[49m\u001b[38;5;241;43m.\u001b[39;49m\u001b[43mtext_input\u001b[49m\u001b[43m(\u001b[49m\u001b[38;5;124;43m\"\u001b[39;49m\u001b[38;5;124;43mInput the word you entered> \u001b[39;49m\u001b[38;5;124;43m\"\u001b[39;49m\u001b[43m,\u001b[49m\u001b[43m \u001b[49m\u001b[43mkey\u001b[49m\u001b[38;5;241;43m=\u001b[39;49m\u001b[43mkey1\u001b[49m\u001b[43m)\u001b[49m\n\u001b[1;32m      5\u001b[0m     \u001b[38;5;28;01mif\u001b[39;00m \u001b[38;5;28mlen\u001b[39m(word) \u001b[38;5;241m==\u001b[39m WORD_LENGTH \u001b[38;5;129;01mand\u001b[39;00m word\u001b[38;5;241m.\u001b[39mlower() \u001b[38;5;129;01min\u001b[39;00m word_stat_dict:\n\u001b[1;32m      6\u001b[0m         \u001b[38;5;28;01mbreak\u001b[39;00m\n",
      "File \u001b[0;32m/opt/anaconda3/envs/WORDLE/lib/python3.9/site-packages/streamlit/elements/text_widgets.py:108\u001b[0m, in \u001b[0;36mTextWidgetsMixin.text_input\u001b[0;34m(self, label, value, max_chars, key, type, help, autocomplete, on_change, args, kwargs, placeholder, disabled)\u001b[0m\n\u001b[1;32m     52\u001b[0m \u001b[38;5;124;03m\"\"\"Display a single-line text input widget.\u001b[39;00m\n\u001b[1;32m     53\u001b[0m \n\u001b[1;32m     54\u001b[0m \u001b[38;5;124;03mParameters\u001b[39;00m\n\u001b[0;32m   (...)\u001b[0m\n\u001b[1;32m    105\u001b[0m \n\u001b[1;32m    106\u001b[0m \u001b[38;5;124;03m\"\"\"\u001b[39;00m\n\u001b[1;32m    107\u001b[0m ctx \u001b[38;5;241m=\u001b[39m get_script_run_ctx()\n\u001b[0;32m--> 108\u001b[0m \u001b[38;5;28;01mreturn\u001b[39;00m \u001b[38;5;28;43mself\u001b[39;49m\u001b[38;5;241;43m.\u001b[39;49m\u001b[43m_text_input\u001b[49m\u001b[43m(\u001b[49m\n\u001b[1;32m    109\u001b[0m \u001b[43m    \u001b[49m\u001b[43mlabel\u001b[49m\u001b[38;5;241;43m=\u001b[39;49m\u001b[43mlabel\u001b[49m\u001b[43m,\u001b[49m\n\u001b[1;32m    110\u001b[0m \u001b[43m    \u001b[49m\u001b[43mvalue\u001b[49m\u001b[38;5;241;43m=\u001b[39;49m\u001b[43mvalue\u001b[49m\u001b[43m,\u001b[49m\n\u001b[1;32m    111\u001b[0m \u001b[43m    \u001b[49m\u001b[43mmax_chars\u001b[49m\u001b[38;5;241;43m=\u001b[39;49m\u001b[43mmax_chars\u001b[49m\u001b[43m,\u001b[49m\n\u001b[1;32m    112\u001b[0m \u001b[43m    \u001b[49m\u001b[43mkey\u001b[49m\u001b[38;5;241;43m=\u001b[39;49m\u001b[43mkey\u001b[49m\u001b[43m,\u001b[49m\n\u001b[1;32m    113\u001b[0m \u001b[43m    \u001b[49m\u001b[38;5;28;43mtype\u001b[39;49m\u001b[38;5;241;43m=\u001b[39;49m\u001b[38;5;28;43mtype\u001b[39;49m\u001b[43m,\u001b[49m\n\u001b[1;32m    114\u001b[0m \u001b[43m    \u001b[49m\u001b[43mhelp\u001b[49m\u001b[38;5;241;43m=\u001b[39;49m\u001b[43mhelp\u001b[49m\u001b[43m,\u001b[49m\n\u001b[1;32m    115\u001b[0m \u001b[43m    \u001b[49m\u001b[43mautocomplete\u001b[49m\u001b[38;5;241;43m=\u001b[39;49m\u001b[43mautocomplete\u001b[49m\u001b[43m,\u001b[49m\n\u001b[1;32m    116\u001b[0m \u001b[43m    \u001b[49m\u001b[43mon_change\u001b[49m\u001b[38;5;241;43m=\u001b[39;49m\u001b[43mon_change\u001b[49m\u001b[43m,\u001b[49m\n\u001b[1;32m    117\u001b[0m \u001b[43m    \u001b[49m\u001b[43margs\u001b[49m\u001b[38;5;241;43m=\u001b[39;49m\u001b[43margs\u001b[49m\u001b[43m,\u001b[49m\n\u001b[1;32m    118\u001b[0m \u001b[43m    \u001b[49m\u001b[43mkwargs\u001b[49m\u001b[38;5;241;43m=\u001b[39;49m\u001b[43mkwargs\u001b[49m\u001b[43m,\u001b[49m\n\u001b[1;32m    119\u001b[0m \u001b[43m    \u001b[49m\u001b[43mplaceholder\u001b[49m\u001b[38;5;241;43m=\u001b[39;49m\u001b[43mplaceholder\u001b[49m\u001b[43m,\u001b[49m\n\u001b[1;32m    120\u001b[0m \u001b[43m    \u001b[49m\u001b[43mdisabled\u001b[49m\u001b[38;5;241;43m=\u001b[39;49m\u001b[43mdisabled\u001b[49m\u001b[43m,\u001b[49m\n\u001b[1;32m    121\u001b[0m \u001b[43m    \u001b[49m\u001b[43mctx\u001b[49m\u001b[38;5;241;43m=\u001b[39;49m\u001b[43mctx\u001b[49m\u001b[43m,\u001b[49m\n\u001b[1;32m    122\u001b[0m \u001b[43m\u001b[49m\u001b[43m)\u001b[49m\n",
      "File \u001b[0;32m/opt/anaconda3/envs/WORDLE/lib/python3.9/site-packages/streamlit/elements/text_widgets.py:195\u001b[0m, in \u001b[0;36mTextWidgetsMixin._text_input\u001b[0;34m(self, label, value, max_chars, key, type, help, autocomplete, on_change, args, kwargs, placeholder, disabled, ctx)\u001b[0m\n\u001b[1;32m    192\u001b[0m     text_input_proto\u001b[38;5;241m.\u001b[39mvalue \u001b[38;5;241m=\u001b[39m current_value\n\u001b[1;32m    193\u001b[0m     text_input_proto\u001b[38;5;241m.\u001b[39mset_value \u001b[38;5;241m=\u001b[39m \u001b[38;5;28;01mTrue\u001b[39;00m\n\u001b[0;32m--> 195\u001b[0m \u001b[38;5;28;43mself\u001b[39;49m\u001b[38;5;241;43m.\u001b[39;49m\u001b[43mdg\u001b[49m\u001b[38;5;241;43m.\u001b[39;49m\u001b[43m_enqueue\u001b[49m\u001b[43m(\u001b[49m\u001b[38;5;124;43m\"\u001b[39;49m\u001b[38;5;124;43mtext_input\u001b[39;49m\u001b[38;5;124;43m\"\u001b[39;49m\u001b[43m,\u001b[49m\u001b[43m \u001b[49m\u001b[43mtext_input_proto\u001b[49m\u001b[43m)\u001b[49m\n\u001b[1;32m    196\u001b[0m \u001b[38;5;28;01mreturn\u001b[39;00m cast(\u001b[38;5;28mstr\u001b[39m, current_value)\n",
      "File \u001b[0;32m/opt/anaconda3/envs/WORDLE/lib/python3.9/site-packages/streamlit/delta_generator.py:397\u001b[0m, in \u001b[0;36mDeltaGenerator._enqueue\u001b[0;34m(self, delta_type, element_proto, return_value, last_index, element_width, element_height)\u001b[0m\n\u001b[1;32m    395\u001b[0m msg \u001b[38;5;241m=\u001b[39m ForwardMsg_pb2\u001b[38;5;241m.\u001b[39mForwardMsg()\n\u001b[1;32m    396\u001b[0m msg_el_proto \u001b[38;5;241m=\u001b[39m \u001b[38;5;28mgetattr\u001b[39m(msg\u001b[38;5;241m.\u001b[39mdelta\u001b[38;5;241m.\u001b[39mnew_element, proto_type)\n\u001b[0;32m--> 397\u001b[0m \u001b[43mmsg_el_proto\u001b[49m\u001b[38;5;241;43m.\u001b[39;49m\u001b[43mCopyFrom\u001b[49m\u001b[43m(\u001b[49m\u001b[43melement_proto\u001b[49m\u001b[43m)\u001b[49m\n\u001b[1;32m    399\u001b[0m \u001b[38;5;66;03m# Only enqueue message and fill in metadata if there's a container.\u001b[39;00m\n\u001b[1;32m    400\u001b[0m msg_was_enqueued \u001b[38;5;241m=\u001b[39m \u001b[38;5;28;01mFalse\u001b[39;00m\n",
      "\u001b[0;31mKeyboardInterrupt\u001b[0m: "
     ]
    }
   ],
   "source": [
    "solve()"
   ]
  },
  {
   "cell_type": "code",
   "execution_count": null,
   "id": "5f0be0c3",
   "metadata": {},
   "outputs": [],
   "source": []
  }
 ],
 "metadata": {
  "jupytext": {
   "formats": "ipynb,py"
  },
  "kernelspec": {
   "display_name": "Python 3 (ipykernel)",
   "language": "python",
   "name": "python3"
  },
  "language_info": {
   "codemirror_mode": {
    "name": "ipython",
    "version": 3
   },
   "file_extension": ".py",
   "mimetype": "text/x-python",
   "name": "python",
   "nbconvert_exporter": "python",
   "pygments_lexer": "ipython3",
   "version": "3.9.12"
  }
 },
 "nbformat": 4,
 "nbformat_minor": 5
}
