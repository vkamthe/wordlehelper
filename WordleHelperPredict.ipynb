{
 "cells": [
  {
   "cell_type": "code",
   "execution_count": 1,
   "id": "19f65f33-c953-4fa9-a8b2-ed8e8614f9ef",
   "metadata": {},
   "outputs": [],
   "source": [
    "import csv\n",
    "with open('dict.csv') as csv_file:\n",
    "    reader = csv.reader(csv_file)\n",
    "    word_stat_dict = dict(reader)"
   ]
  },
  {
   "cell_type": "code",
   "execution_count": 2,
   "id": "dadf4ca6-23cb-41b8-8cf0-fb356ec2454f",
   "metadata": {},
   "outputs": [],
   "source": [
    "# Print to find the first few entries in dictionary!\n",
    "#list(word_stat_dict.items())[:10]"
   ]
  },
  {
   "cell_type": "code",
   "execution_count": 3,
   "id": "d23c370a-dc1b-4834-9427-3c0a7017f66d",
   "metadata": {},
   "outputs": [],
   "source": [
    "WORD_LENGTH = 5\n",
    "ALLOWED_ATTEMPTS = 6"
   ]
  },
  {
   "cell_type": "code",
   "execution_count": 4,
   "id": "25b0507a-b1bb-41bd-8fb0-701a6862f840",
   "metadata": {},
   "outputs": [],
   "source": [
    "import streamlit as st\n",
    "import random"
   ]
  },
  {
   "cell_type": "code",
   "execution_count": 5,
   "id": "e5f8678e-e3a9-450e-9ab7-0e9c120f10b7",
   "metadata": {},
   "outputs": [],
   "source": [
    "def input_word(attempt):\n",
    "    while True:\n",
    "        key='word'+str(attempt)+random.BPF\n",
    "        word = st.text_input(\"Input the word you entered> \", key=key)\n",
    "        if len(word) == WORD_LENGTH and word.lower() in word_stat_dict:\n",
    "            break\n",
    "    return word.lower()"
   ]
  },
  {
   "cell_type": "code",
   "execution_count": 6,
   "id": "8877a429-74d9-4c99-ab66-fc72a85cb168",
   "metadata": {},
   "outputs": [],
   "source": [
    "def input_response(attempt):\n",
    "    st.write(\"Type the color-coded reply from Wordle:\")\n",
    "    st.write(\"  G for Green\")\n",
    "    st.write(\"  Y for Yellow\")\n",
    "    st.write(\"  ? for Gray\")\n",
    "    \n",
    "    key='response'+str(attempt)+random.BPF\n",
    "    while True:\n",
    "        response = st.text_input(\"Response from Wordle> \", key=key)\n",
    "        if len(response) == WORD_LENGTH and set(response) <= {\"G\", \"Y\", \"?\"}:\n",
    "            break\n",
    "        else:\n",
    "            st.write(\"Error - invalid answer\", response)\n",
    "    return response"
   ]
  },
  {
   "cell_type": "code",
   "execution_count": 7,
   "id": "ed160e5f-fa18-44f8-aa11-7ff1f83c4841",
   "metadata": {},
   "outputs": [
    {
     "data": {
      "text/plain": [
       "{'a',\n",
       " 'b',\n",
       " 'c',\n",
       " 'd',\n",
       " 'e',\n",
       " 'f',\n",
       " 'g',\n",
       " 'h',\n",
       " 'i',\n",
       " 'j',\n",
       " 'k',\n",
       " 'l',\n",
       " 'm',\n",
       " 'n',\n",
       " 'o',\n",
       " 'p',\n",
       " 'q',\n",
       " 'r',\n",
       " 's',\n",
       " 't',\n",
       " 'u',\n",
       " 'v',\n",
       " 'w',\n",
       " 'x',\n",
       " 'y',\n",
       " 'z'}"
      ]
     },
     "execution_count": 7,
     "metadata": {},
     "output_type": "execute_result"
    }
   ],
   "source": [
    "import string\n",
    "set(string.ascii_lowercase)"
   ]
  },
  {
   "cell_type": "code",
   "execution_count": 8,
   "id": "74337d01-0bc5-44e9-8e1f-ee95747678a4",
   "metadata": {},
   "outputs": [],
   "source": [
    "word_vector = [set(string.ascii_lowercase) for _ in range(WORD_LENGTH)]"
   ]
  },
  {
   "cell_type": "code",
   "execution_count": 9,
   "id": "0034dc3c-8b2f-449b-a774-414d28df2288",
   "metadata": {},
   "outputs": [],
   "source": [
    "#print(word_vector)"
   ]
  },
  {
   "cell_type": "code",
   "execution_count": 10,
   "id": "b4b41194-76bf-40ef-8e0d-42c3b0f09f14",
   "metadata": {},
   "outputs": [],
   "source": [
    "def match_word_vector(word, word_vector):\n",
    "    assert len(word) == len(word_vector)\n",
    "    for letter, v_letter in zip(word, word_vector):\n",
    "        if letter not in v_letter:\n",
    "            return False\n",
    "    return True"
   ]
  },
  {
   "cell_type": "code",
   "execution_count": 11,
   "id": "a2eca0fa-1558-45cc-b1d8-72dbdbb239a2",
   "metadata": {},
   "outputs": [],
   "source": [
    "#match_word_vector('99999',word_vector)"
   ]
  },
  {
   "cell_type": "code",
   "execution_count": 12,
   "id": "c5b67ea0-4d20-4f4f-a5c2-7563805584b7",
   "metadata": {},
   "outputs": [],
   "source": [
    "def match(word_vector, possible_words):\n",
    "    return [word for word in possible_words if match_word_vector(word, word_vector)]"
   ]
  },
  {
   "cell_type": "code",
   "execution_count": 13,
   "id": "8a92ac7b-2e6f-4ac4-96fc-a4287a7330b3",
   "metadata": {},
   "outputs": [],
   "source": [
    "def yellow_chars_match(possible_words, yellow_chars):\n",
    "    chars = set(yellow_chars)\n",
    "    return [word for word in possible_words if all((c in word) for c in chars)]"
   ]
  },
  {
   "cell_type": "code",
   "execution_count": 14,
   "id": "86ed52fa-1d6d-4fcb-a044-cd53402ff7cb",
   "metadata": {},
   "outputs": [],
   "source": [
    "def solve():\n",
    "    possible_words = word_stat_dict.copy()\n",
    "    word_vector = [set(string.ascii_lowercase) for _ in range(WORD_LENGTH)]\n",
    "    yellow_chars = ''\n",
    "    for attempt in range(1, ALLOWED_ATTEMPTS + 1):\n",
    "\n",
    "        st.write(\"Attempt\", attempt, \" with\", len(possible_words), \"possible words\")\n",
    "        #display_word_table(sort_by_word_commonality(possible_words)[:15])\n",
    "        \n",
    "        st.write(list(possible_words)[:10])\n",
    "        \n",
    "        word = input_word(attempt)\n",
    "        response = input_response(attempt)\n",
    "        \n",
    "        if response == 'GGGGG':\n",
    "            st.write(\"Completed Wordle in\", attempt , \"attempts\")\n",
    "            break\n",
    "\n",
    "        for idx, letter in enumerate(response):\n",
    "            if letter == \"G\":\n",
    "                word_vector[idx] = {word[idx]}\n",
    "            elif letter == \"Y\":\n",
    "                yellow_chars = yellow_chars + word[idx]\n",
    "                try:\n",
    "                    word_vector[idx].remove(word[idx])\n",
    "                except KeyError:\n",
    "                    pass\n",
    "            elif letter == \"?\":\n",
    "                for vector in word_vector:\n",
    "                    try:\n",
    "                        vector.remove(word[idx])\n",
    "                    except KeyError:\n",
    "                        pass\n",
    "        \n",
    "        possible_words = match(word_vector, possible_words)\n",
    "        st.write(\"possible words after word vector match \", len(possible_words))\n",
    "        \n",
    "        st.write(\"yellow characters\", yellow_chars)\n",
    "        possible_words = yellow_chars_match(possible_words, yellow_chars)\n",
    "        st.write(\"possible words after yellow chars match \", len(possible_words))\n",
    "                                            \n",
    "    if attempt == ALLOWED_ATTEMPTS:\n",
    "        st.write(\"Sorry.... I could not help in \", attempt , \"attempts\")\n"
   ]
  },
  {
   "cell_type": "code",
   "execution_count": 15,
   "id": "59913fab-d2c5-4d2a-995e-e9290c58eede",
   "metadata": {},
   "outputs": [
    {
     "name": "stderr",
     "output_type": "stream",
     "text": [
      "2022-04-25 09:23:44.779 \n",
      "  \u001b[33m\u001b[1mWarning:\u001b[0m to view this Streamlit app on a browser, run it with the following\n",
      "  command:\n",
      "\n",
      "    streamlit run /opt/anaconda3/envs/WORDLE/lib/python3.9/site-packages/ipykernel_launcher.py [ARGUMENTS]\n"
     ]
    },
    {
     "ename": "KeyboardInterrupt",
     "evalue": "",
     "output_type": "error",
     "traceback": [
      "\u001b[0;31m---------------------------------------------------------------------------\u001b[0m",
      "\u001b[0;31mKeyboardInterrupt\u001b[0m                         Traceback (most recent call last)",
      "Input \u001b[0;32mIn [15]\u001b[0m, in \u001b[0;36m<cell line: 1>\u001b[0;34m()\u001b[0m\n\u001b[0;32m----> 1\u001b[0m \u001b[43msolve\u001b[49m\u001b[43m(\u001b[49m\u001b[43m)\u001b[49m\n",
      "Input \u001b[0;32mIn [14]\u001b[0m, in \u001b[0;36msolve\u001b[0;34m()\u001b[0m\n\u001b[1;32m      8\u001b[0m \u001b[38;5;66;03m#display_word_table(sort_by_word_commonality(possible_words)[:15])\u001b[39;00m\n\u001b[1;32m     10\u001b[0m st\u001b[38;5;241m.\u001b[39mwrite(\u001b[38;5;28mlist\u001b[39m(possible_words)[:\u001b[38;5;241m10\u001b[39m])\n\u001b[0;32m---> 12\u001b[0m word \u001b[38;5;241m=\u001b[39m \u001b[43minput_word\u001b[49m\u001b[43m(\u001b[49m\u001b[43mattempt\u001b[49m\u001b[43m)\u001b[49m\n\u001b[1;32m     13\u001b[0m response \u001b[38;5;241m=\u001b[39m input_response(attempt)\n\u001b[1;32m     15\u001b[0m \u001b[38;5;28;01mif\u001b[39;00m response \u001b[38;5;241m==\u001b[39m \u001b[38;5;124m'\u001b[39m\u001b[38;5;124mGGGGG\u001b[39m\u001b[38;5;124m'\u001b[39m:\n",
      "Input \u001b[0;32mIn [5]\u001b[0m, in \u001b[0;36minput_word\u001b[0;34m(attempt)\u001b[0m\n\u001b[1;32m      2\u001b[0m \u001b[38;5;28;01mwhile\u001b[39;00m \u001b[38;5;28;01mTrue\u001b[39;00m:\n\u001b[1;32m      3\u001b[0m     key\u001b[38;5;241m=\u001b[39m\u001b[38;5;124m'\u001b[39m\u001b[38;5;124mword\u001b[39m\u001b[38;5;124m'\u001b[39m\u001b[38;5;241m+\u001b[39m\u001b[38;5;28mstr\u001b[39m(attempt)\n\u001b[0;32m----> 4\u001b[0m     word \u001b[38;5;241m=\u001b[39m \u001b[43mst\u001b[49m\u001b[38;5;241;43m.\u001b[39;49m\u001b[43mtext_input\u001b[49m\u001b[43m(\u001b[49m\u001b[38;5;124;43m\"\u001b[39;49m\u001b[38;5;124;43mInput the word you entered> \u001b[39;49m\u001b[38;5;124;43m\"\u001b[39;49m\u001b[43m,\u001b[49m\u001b[43m \u001b[49m\u001b[43mkey\u001b[49m\u001b[38;5;241;43m=\u001b[39;49m\u001b[43mkey\u001b[49m\u001b[43m)\u001b[49m\n\u001b[1;32m      5\u001b[0m     \u001b[38;5;28;01mif\u001b[39;00m \u001b[38;5;28mlen\u001b[39m(word) \u001b[38;5;241m==\u001b[39m WORD_LENGTH \u001b[38;5;129;01mand\u001b[39;00m word\u001b[38;5;241m.\u001b[39mlower() \u001b[38;5;129;01min\u001b[39;00m word_stat_dict:\n\u001b[1;32m      6\u001b[0m         \u001b[38;5;28;01mbreak\u001b[39;00m\n",
      "File \u001b[0;32m/opt/anaconda3/envs/WORDLE/lib/python3.9/site-packages/streamlit/elements/text_widgets.py:108\u001b[0m, in \u001b[0;36mTextWidgetsMixin.text_input\u001b[0;34m(self, label, value, max_chars, key, type, help, autocomplete, on_change, args, kwargs, placeholder, disabled)\u001b[0m\n\u001b[1;32m     52\u001b[0m \u001b[38;5;124;03m\"\"\"Display a single-line text input widget.\u001b[39;00m\n\u001b[1;32m     53\u001b[0m \n\u001b[1;32m     54\u001b[0m \u001b[38;5;124;03mParameters\u001b[39;00m\n\u001b[0;32m   (...)\u001b[0m\n\u001b[1;32m    105\u001b[0m \n\u001b[1;32m    106\u001b[0m \u001b[38;5;124;03m\"\"\"\u001b[39;00m\n\u001b[1;32m    107\u001b[0m ctx \u001b[38;5;241m=\u001b[39m get_script_run_ctx()\n\u001b[0;32m--> 108\u001b[0m \u001b[38;5;28;01mreturn\u001b[39;00m \u001b[38;5;28;43mself\u001b[39;49m\u001b[38;5;241;43m.\u001b[39;49m\u001b[43m_text_input\u001b[49m\u001b[43m(\u001b[49m\n\u001b[1;32m    109\u001b[0m \u001b[43m    \u001b[49m\u001b[43mlabel\u001b[49m\u001b[38;5;241;43m=\u001b[39;49m\u001b[43mlabel\u001b[49m\u001b[43m,\u001b[49m\n\u001b[1;32m    110\u001b[0m \u001b[43m    \u001b[49m\u001b[43mvalue\u001b[49m\u001b[38;5;241;43m=\u001b[39;49m\u001b[43mvalue\u001b[49m\u001b[43m,\u001b[49m\n\u001b[1;32m    111\u001b[0m \u001b[43m    \u001b[49m\u001b[43mmax_chars\u001b[49m\u001b[38;5;241;43m=\u001b[39;49m\u001b[43mmax_chars\u001b[49m\u001b[43m,\u001b[49m\n\u001b[1;32m    112\u001b[0m \u001b[43m    \u001b[49m\u001b[43mkey\u001b[49m\u001b[38;5;241;43m=\u001b[39;49m\u001b[43mkey\u001b[49m\u001b[43m,\u001b[49m\n\u001b[1;32m    113\u001b[0m \u001b[43m    \u001b[49m\u001b[38;5;28;43mtype\u001b[39;49m\u001b[38;5;241;43m=\u001b[39;49m\u001b[38;5;28;43mtype\u001b[39;49m\u001b[43m,\u001b[49m\n\u001b[1;32m    114\u001b[0m \u001b[43m    \u001b[49m\u001b[43mhelp\u001b[49m\u001b[38;5;241;43m=\u001b[39;49m\u001b[43mhelp\u001b[49m\u001b[43m,\u001b[49m\n\u001b[1;32m    115\u001b[0m \u001b[43m    \u001b[49m\u001b[43mautocomplete\u001b[49m\u001b[38;5;241;43m=\u001b[39;49m\u001b[43mautocomplete\u001b[49m\u001b[43m,\u001b[49m\n\u001b[1;32m    116\u001b[0m \u001b[43m    \u001b[49m\u001b[43mon_change\u001b[49m\u001b[38;5;241;43m=\u001b[39;49m\u001b[43mon_change\u001b[49m\u001b[43m,\u001b[49m\n\u001b[1;32m    117\u001b[0m \u001b[43m    \u001b[49m\u001b[43margs\u001b[49m\u001b[38;5;241;43m=\u001b[39;49m\u001b[43margs\u001b[49m\u001b[43m,\u001b[49m\n\u001b[1;32m    118\u001b[0m \u001b[43m    \u001b[49m\u001b[43mkwargs\u001b[49m\u001b[38;5;241;43m=\u001b[39;49m\u001b[43mkwargs\u001b[49m\u001b[43m,\u001b[49m\n\u001b[1;32m    119\u001b[0m \u001b[43m    \u001b[49m\u001b[43mplaceholder\u001b[49m\u001b[38;5;241;43m=\u001b[39;49m\u001b[43mplaceholder\u001b[49m\u001b[43m,\u001b[49m\n\u001b[1;32m    120\u001b[0m \u001b[43m    \u001b[49m\u001b[43mdisabled\u001b[49m\u001b[38;5;241;43m=\u001b[39;49m\u001b[43mdisabled\u001b[49m\u001b[43m,\u001b[49m\n\u001b[1;32m    121\u001b[0m \u001b[43m    \u001b[49m\u001b[43mctx\u001b[49m\u001b[38;5;241;43m=\u001b[39;49m\u001b[43mctx\u001b[49m\u001b[43m,\u001b[49m\n\u001b[1;32m    122\u001b[0m \u001b[43m\u001b[49m\u001b[43m)\u001b[49m\n",
      "File \u001b[0;32m/opt/anaconda3/envs/WORDLE/lib/python3.9/site-packages/streamlit/elements/text_widgets.py:179\u001b[0m, in \u001b[0;36mTextWidgetsMixin._text_input\u001b[0;34m(self, label, value, max_chars, key, type, help, autocomplete, on_change, args, kwargs, placeholder, disabled, ctx)\u001b[0m\n\u001b[1;32m    176\u001b[0m \u001b[38;5;28;01mdef\u001b[39;00m \u001b[38;5;21mdeserialize_text_input\u001b[39m(ui_value, widget_id\u001b[38;5;241m=\u001b[39m\u001b[38;5;124m\"\u001b[39m\u001b[38;5;124m\"\u001b[39m) \u001b[38;5;241m-\u001b[39m\u001b[38;5;241m>\u001b[39m \u001b[38;5;28mstr\u001b[39m:\n\u001b[1;32m    177\u001b[0m     \u001b[38;5;28;01mreturn\u001b[39;00m \u001b[38;5;28mstr\u001b[39m(ui_value \u001b[38;5;28;01mif\u001b[39;00m ui_value \u001b[38;5;129;01mis\u001b[39;00m \u001b[38;5;129;01mnot\u001b[39;00m \u001b[38;5;28;01mNone\u001b[39;00m \u001b[38;5;28;01melse\u001b[39;00m value)\n\u001b[0;32m--> 179\u001b[0m current_value, set_frontend_value \u001b[38;5;241m=\u001b[39m \u001b[43mregister_widget\u001b[49m\u001b[43m(\u001b[49m\n\u001b[1;32m    180\u001b[0m \u001b[43m    \u001b[49m\u001b[38;5;124;43m\"\u001b[39;49m\u001b[38;5;124;43mtext_input\u001b[39;49m\u001b[38;5;124;43m\"\u001b[39;49m\u001b[43m,\u001b[49m\n\u001b[1;32m    181\u001b[0m \u001b[43m    \u001b[49m\u001b[43mtext_input_proto\u001b[49m\u001b[43m,\u001b[49m\n\u001b[1;32m    182\u001b[0m \u001b[43m    \u001b[49m\u001b[43muser_key\u001b[49m\u001b[38;5;241;43m=\u001b[39;49m\u001b[43mkey\u001b[49m\u001b[43m,\u001b[49m\n\u001b[1;32m    183\u001b[0m \u001b[43m    \u001b[49m\u001b[43mon_change_handler\u001b[49m\u001b[38;5;241;43m=\u001b[39;49m\u001b[43mon_change\u001b[49m\u001b[43m,\u001b[49m\n\u001b[1;32m    184\u001b[0m \u001b[43m    \u001b[49m\u001b[43margs\u001b[49m\u001b[38;5;241;43m=\u001b[39;49m\u001b[43margs\u001b[49m\u001b[43m,\u001b[49m\n\u001b[1;32m    185\u001b[0m \u001b[43m    \u001b[49m\u001b[43mkwargs\u001b[49m\u001b[38;5;241;43m=\u001b[39;49m\u001b[43mkwargs\u001b[49m\u001b[43m,\u001b[49m\n\u001b[1;32m    186\u001b[0m \u001b[43m    \u001b[49m\u001b[43mdeserializer\u001b[49m\u001b[38;5;241;43m=\u001b[39;49m\u001b[43mdeserialize_text_input\u001b[49m\u001b[43m,\u001b[49m\n\u001b[1;32m    187\u001b[0m \u001b[43m    \u001b[49m\u001b[43mserializer\u001b[49m\u001b[38;5;241;43m=\u001b[39;49m\u001b[38;5;28;43;01mlambda\u001b[39;49;00m\u001b[43m \u001b[49m\u001b[43mx\u001b[49m\u001b[43m:\u001b[49m\u001b[43m \u001b[49m\u001b[43mx\u001b[49m\u001b[43m,\u001b[49m\n\u001b[1;32m    188\u001b[0m \u001b[43m    \u001b[49m\u001b[43mctx\u001b[49m\u001b[38;5;241;43m=\u001b[39;49m\u001b[43mctx\u001b[49m\u001b[43m,\u001b[49m\n\u001b[1;32m    189\u001b[0m \u001b[43m\u001b[49m\u001b[43m)\u001b[49m\n\u001b[1;32m    191\u001b[0m \u001b[38;5;28;01mif\u001b[39;00m set_frontend_value:\n\u001b[1;32m    192\u001b[0m     text_input_proto\u001b[38;5;241m.\u001b[39mvalue \u001b[38;5;241m=\u001b[39m current_value\n",
      "File \u001b[0;32m/opt/anaconda3/envs/WORDLE/lib/python3.9/site-packages/streamlit/state/widgets.py:133\u001b[0m, in \u001b[0;36mregister_widget\u001b[0;34m(element_type, element_proto, deserializer, serializer, ctx, user_key, widget_func_name, on_change_handler, args, kwargs)\u001b[0m\n\u001b[1;32m     80\u001b[0m \u001b[38;5;28;01mdef\u001b[39;00m \u001b[38;5;21mregister_widget\u001b[39m(\n\u001b[1;32m     81\u001b[0m     element_type: \u001b[38;5;28mstr\u001b[39m,\n\u001b[1;32m     82\u001b[0m     element_proto: WidgetProto,\n\u001b[0;32m   (...)\u001b[0m\n\u001b[1;32m     90\u001b[0m     kwargs: Optional[WidgetKwargs] \u001b[38;5;241m=\u001b[39m \u001b[38;5;28;01mNone\u001b[39;00m,\n\u001b[1;32m     91\u001b[0m ) \u001b[38;5;241m-\u001b[39m\u001b[38;5;241m>\u001b[39m Tuple[Any, \u001b[38;5;28mbool\u001b[39m]:\n\u001b[1;32m     92\u001b[0m     \u001b[38;5;124;03m\"\"\"Register a widget with Streamlit, and return its current value.\u001b[39;00m\n\u001b[1;32m     93\u001b[0m \u001b[38;5;124;03m    NOTE: This function should be called after the proto has been filled.\u001b[39;00m\n\u001b[1;32m     94\u001b[0m \n\u001b[0;32m   (...)\u001b[0m\n\u001b[1;32m    131\u001b[0m \n\u001b[1;32m    132\u001b[0m \u001b[38;5;124;03m    \"\"\"\u001b[39;00m\n\u001b[0;32m--> 133\u001b[0m     widget_id \u001b[38;5;241m=\u001b[39m \u001b[43m_get_widget_id\u001b[49m\u001b[43m(\u001b[49m\u001b[43melement_type\u001b[49m\u001b[43m,\u001b[49m\u001b[43m \u001b[49m\u001b[43melement_proto\u001b[49m\u001b[43m,\u001b[49m\u001b[43m \u001b[49m\u001b[43muser_key\u001b[49m\u001b[43m)\u001b[49m\n\u001b[1;32m    134\u001b[0m     element_proto\u001b[38;5;241m.\u001b[39mid \u001b[38;5;241m=\u001b[39m widget_id\n\u001b[1;32m    136\u001b[0m     \u001b[38;5;28;01mif\u001b[39;00m ctx \u001b[38;5;129;01mis\u001b[39;00m \u001b[38;5;28;01mNone\u001b[39;00m:\n\u001b[1;32m    137\u001b[0m         \u001b[38;5;66;03m# Early-out if we don't have a script run context (which probably means\u001b[39;00m\n\u001b[1;32m    138\u001b[0m         \u001b[38;5;66;03m# we're running as a \"bare\" Python script, and not via `streamlit run`).\u001b[39;00m\n",
      "File \u001b[0;32m/opt/anaconda3/envs/WORDLE/lib/python3.9/site-packages/streamlit/state/widgets.py:274\u001b[0m, in \u001b[0;36m_get_widget_id\u001b[0;34m(element_type, element_proto, user_key)\u001b[0m\n\u001b[1;32m    272\u001b[0m h\u001b[38;5;241m.\u001b[39mupdate(element_type\u001b[38;5;241m.\u001b[39mencode(\u001b[38;5;124m\"\u001b[39m\u001b[38;5;124mutf-8\u001b[39m\u001b[38;5;124m\"\u001b[39m))\n\u001b[1;32m    273\u001b[0m h\u001b[38;5;241m.\u001b[39mupdate(element_proto\u001b[38;5;241m.\u001b[39mSerializeToString())\n\u001b[0;32m--> 274\u001b[0m \u001b[38;5;28;01mreturn\u001b[39;00m \u001b[38;5;124mf\u001b[39m\u001b[38;5;124m\"\u001b[39m\u001b[38;5;132;01m{\u001b[39;00mGENERATED_WIDGET_KEY_PREFIX\u001b[38;5;132;01m}\u001b[39;00m\u001b[38;5;124m-\u001b[39m\u001b[38;5;132;01m{\u001b[39;00mh\u001b[38;5;241m.\u001b[39mhexdigest()\u001b[38;5;132;01m}\u001b[39;00m\u001b[38;5;124m-\u001b[39m\u001b[38;5;132;01m{\u001b[39;00muser_key\u001b[38;5;132;01m}\u001b[39;00m\u001b[38;5;124m\"\u001b[39m\n",
      "\u001b[0;31mKeyboardInterrupt\u001b[0m: "
     ]
    }
   ],
   "source": [
    "solve()"
   ]
  },
  {
   "cell_type": "code",
   "execution_count": 18,
   "id": "fcad8e82-d7e7-4b19-88d2-132c6b737681",
   "metadata": {},
   "outputs": [
    {
     "data": {
      "text/plain": [
       "<module 'random' from '/opt/anaconda3/envs/WORDLE/lib/python3.9/random.py'>"
      ]
     },
     "execution_count": 18,
     "metadata": {},
     "output_type": "execute_result"
    }
   ],
   "source": [
    "random"
   ]
  },
  {
   "cell_type": "code",
   "execution_count": 19,
   "id": "6716309c-0de2-487c-a0b4-3c937307bfce",
   "metadata": {},
   "outputs": [
    {
     "data": {
      "text/plain": [
       "53"
      ]
     },
     "execution_count": 19,
     "metadata": {},
     "output_type": "execute_result"
    }
   ],
   "source": [
    "random.BPF"
   ]
  },
  {
   "cell_type": "code",
   "execution_count": null,
   "id": "8b7a9fac-20e4-467e-896b-344faddf2499",
   "metadata": {},
   "outputs": [],
   "source": []
  }
 ],
 "metadata": {
  "jupytext": {
   "formats": "ipynb,py"
  },
  "kernelspec": {
   "display_name": "Python 3 (ipykernel)",
   "language": "python",
   "name": "python3"
  },
  "language_info": {
   "codemirror_mode": {
    "name": "ipython",
    "version": 3
   },
   "file_extension": ".py",
   "mimetype": "text/x-python",
   "name": "python",
   "nbconvert_exporter": "python",
   "pygments_lexer": "ipython3",
   "version": "3.9.12"
  }
 },
 "nbformat": 4,
 "nbformat_minor": 5
}
